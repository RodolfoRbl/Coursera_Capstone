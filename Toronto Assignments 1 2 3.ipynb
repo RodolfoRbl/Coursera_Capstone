{
    "cells": [
        {
            "cell_type": "code",
            "execution_count": 43,
            "metadata": {},
            "outputs": [
                {
                    "name": "stdout",
                    "output_type": "stream",
                    "text": "All libraries imported\n"
                }
            ],
            "source": "#inserting libraries for the prject\n\nimport random #random forest generation\nimport numpy as np #vectorized computation\nimport pandas as pd #processing data to dataframes\nimport requests\nimport matplotlib.pyplot as plt #visualizing data via plotting\n%matplotlib inline\nfrom bs4 import BeautifulSoup\nfrom sklearn.cluster import KMeans #importing KMeans\nfrom sklearn.datasets.samples_generator import make_blobs\nimport bs4 as bs\nimport urllib.request\nimport matplotlib.cm as cm\nimport matplotlib.colors as colors\nprint(\"All libraries imported\")"
        },
        {
            "cell_type": "markdown",
            "metadata": {},
            "source": "# Part - Project 1 : Text Scrapping with Beautiful Soup\n\n1) Start by creating a new Notebook for this assignment\n2) Scrape the following Wikipedia page in order to obtain the data\n3) Create the dataframe according to the bullets\n\n#### Obtaining data from the following Wikipedia page"
        },
        {
            "cell_type": "code",
            "execution_count": 44,
            "metadata": {},
            "outputs": [],
            "source": "#The dataframe must contain three columns: Postalcode, Borough, Neighborhood\n\nsource = urllib.request.urlopen(\"https://en.wikipedia.org/wiki/List_of_postal_codes_of_Canada:_M\").read()\nsoup = bs.BeautifulSoup(source,\"html.parser\")\n\ntable = soup.find(\"table\")\ntable_rows = table.find_all(\"tr\")\n\nl = []\nfor tr in table_rows:\n    td = tr.find_all(\"td\")\n    row = [tr.text.strip() for tr in td if tr.text.strip()]\n    if row:\n        l.append(row)"
        },
        {
            "cell_type": "code",
            "execution_count": 45,
            "metadata": {},
            "outputs": [
                {
                    "data": {
                        "text/html": "<div>\n<style scoped>\n    .dataframe tbody tr th:only-of-type {\n        vertical-align: middle;\n    }\n\n    .dataframe tbody tr th {\n        vertical-align: top;\n    }\n\n    .dataframe thead th {\n        text-align: right;\n    }\n</style>\n<table border=\"1\" class=\"dataframe\">\n  <thead>\n    <tr style=\"text-align: right;\">\n      <th></th>\n      <th>Postal Code</th>\n      <th>Borough</th>\n      <th>Neighborhood</th>\n    </tr>\n  </thead>\n  <tbody>\n    <tr>\n      <th>0</th>\n      <td>M1A</td>\n      <td>Not assigned</td>\n      <td>Not assigned</td>\n    </tr>\n    <tr>\n      <th>1</th>\n      <td>M2A</td>\n      <td>Not assigned</td>\n      <td>Not assigned</td>\n    </tr>\n    <tr>\n      <th>2</th>\n      <td>M3A</td>\n      <td>North York</td>\n      <td>Parkwoods</td>\n    </tr>\n    <tr>\n      <th>3</th>\n      <td>M4A</td>\n      <td>North York</td>\n      <td>Victoria Village</td>\n    </tr>\n    <tr>\n      <th>4</th>\n      <td>M5A</td>\n      <td>Downtown Toronto</td>\n      <td>Regent Park, Harbourfront</td>\n    </tr>\n    <tr>\n      <th>5</th>\n      <td>M6A</td>\n      <td>North York</td>\n      <td>Lawrence Manor, Lawrence Heights</td>\n    </tr>\n    <tr>\n      <th>6</th>\n      <td>M7A</td>\n      <td>Downtown Toronto</td>\n      <td>Queen's Park, Ontario Provincial Government</td>\n    </tr>\n    <tr>\n      <th>7</th>\n      <td>M8A</td>\n      <td>Not assigned</td>\n      <td>Not assigned</td>\n    </tr>\n    <tr>\n      <th>8</th>\n      <td>M9A</td>\n      <td>Etobicoke</td>\n      <td>Islington Avenue, Humber Valley Village</td>\n    </tr>\n    <tr>\n      <th>9</th>\n      <td>M1B</td>\n      <td>Scarborough</td>\n      <td>Malvern, Rouge</td>\n    </tr>\n  </tbody>\n</table>\n</div>",
                        "text/plain": "  Postal Code           Borough                                 Neighborhood\n0         M1A      Not assigned                                 Not assigned\n1         M2A      Not assigned                                 Not assigned\n2         M3A        North York                                    Parkwoods\n3         M4A        North York                             Victoria Village\n4         M5A  Downtown Toronto                    Regent Park, Harbourfront\n5         M6A        North York             Lawrence Manor, Lawrence Heights\n6         M7A  Downtown Toronto  Queen's Park, Ontario Provincial Government\n7         M8A      Not assigned                                 Not assigned\n8         M9A         Etobicoke      Islington Avenue, Humber Valley Village\n9         M1B       Scarborough                               Malvern, Rouge"
                    },
                    "execution_count": 45,
                    "metadata": {},
                    "output_type": "execute_result"
                }
            ],
            "source": "df = pd.DataFrame(l, columns=[\"Postal Code\",\"Borough\",\"Neighborhood\"])\ndf.head(10)"
        },
        {
            "cell_type": "markdown",
            "metadata": {},
            "source": "#### Removing the boroughs with \"Not assigned\" label"
        },
        {
            "cell_type": "code",
            "execution_count": 46,
            "metadata": {},
            "outputs": [
                {
                    "data": {
                        "text/html": "<div>\n<style scoped>\n    .dataframe tbody tr th:only-of-type {\n        vertical-align: middle;\n    }\n\n    .dataframe tbody tr th {\n        vertical-align: top;\n    }\n\n    .dataframe thead th {\n        text-align: right;\n    }\n</style>\n<table border=\"1\" class=\"dataframe\">\n  <thead>\n    <tr style=\"text-align: right;\">\n      <th></th>\n      <th>Postal Code</th>\n      <th>Borough</th>\n      <th>Neighborhood</th>\n    </tr>\n  </thead>\n  <tbody>\n    <tr>\n      <th>2</th>\n      <td>M3A</td>\n      <td>North York</td>\n      <td>Parkwoods</td>\n    </tr>\n    <tr>\n      <th>3</th>\n      <td>M4A</td>\n      <td>North York</td>\n      <td>Victoria Village</td>\n    </tr>\n    <tr>\n      <th>4</th>\n      <td>M5A</td>\n      <td>Downtown Toronto</td>\n      <td>Regent Park, Harbourfront</td>\n    </tr>\n    <tr>\n      <th>5</th>\n      <td>M6A</td>\n      <td>North York</td>\n      <td>Lawrence Manor, Lawrence Heights</td>\n    </tr>\n    <tr>\n      <th>6</th>\n      <td>M7A</td>\n      <td>Downtown Toronto</td>\n      <td>Queen's Park, Ontario Provincial Government</td>\n    </tr>\n    <tr>\n      <th>8</th>\n      <td>M9A</td>\n      <td>Etobicoke</td>\n      <td>Islington Avenue, Humber Valley Village</td>\n    </tr>\n    <tr>\n      <th>9</th>\n      <td>M1B</td>\n      <td>Scarborough</td>\n      <td>Malvern, Rouge</td>\n    </tr>\n    <tr>\n      <th>11</th>\n      <td>M3B</td>\n      <td>North York</td>\n      <td>Don Mills</td>\n    </tr>\n    <tr>\n      <th>12</th>\n      <td>M4B</td>\n      <td>East York</td>\n      <td>Parkview Hill, Woodbine Gardens</td>\n    </tr>\n    <tr>\n      <th>13</th>\n      <td>M5B</td>\n      <td>Downtown Toronto</td>\n      <td>Garden District, Ryerson</td>\n    </tr>\n  </tbody>\n</table>\n</div>",
                        "text/plain": "   Postal Code           Borough                                 Neighborhood\n2          M3A        North York                                    Parkwoods\n3          M4A        North York                             Victoria Village\n4          M5A  Downtown Toronto                    Regent Park, Harbourfront\n5          M6A        North York             Lawrence Manor, Lawrence Heights\n6          M7A  Downtown Toronto  Queen's Park, Ontario Provincial Government\n8          M9A         Etobicoke      Islington Avenue, Humber Valley Village\n9          M1B       Scarborough                               Malvern, Rouge\n11         M3B        North York                                    Don Mills\n12         M4B         East York              Parkview Hill, Woodbine Gardens\n13         M5B  Downtown Toronto                     Garden District, Ryerson"
                    },
                    "execution_count": 46,
                    "metadata": {},
                    "output_type": "execute_result"
                }
            ],
            "source": "#Process the cells that have assigned boroughs. Ignore the remaining boroughs with \"Not assigned\"\ndf = df[df.Borough != \"Not assigned\"]\ndf.head(10)"
        },
        {
            "cell_type": "code",
            "execution_count": 47,
            "metadata": {},
            "outputs": [
                {
                    "data": {
                        "text/html": "<div>\n<style scoped>\n    .dataframe tbody tr th:only-of-type {\n        vertical-align: middle;\n    }\n\n    .dataframe tbody tr th {\n        vertical-align: top;\n    }\n\n    .dataframe thead th {\n        text-align: right;\n    }\n</style>\n<table border=\"1\" class=\"dataframe\">\n  <thead>\n    <tr style=\"text-align: right;\">\n      <th></th>\n      <th>Postal Code</th>\n      <th>Borough</th>\n      <th>Neighborhood</th>\n    </tr>\n  </thead>\n  <tbody>\n    <tr>\n      <th>0</th>\n      <td>M1B</td>\n      <td>Scarborough</td>\n      <td>Malvern, Rouge</td>\n    </tr>\n    <tr>\n      <th>1</th>\n      <td>M1C</td>\n      <td>Scarborough</td>\n      <td>Rouge Hill, Port Union, Highland Creek</td>\n    </tr>\n    <tr>\n      <th>2</th>\n      <td>M1E</td>\n      <td>Scarborough</td>\n      <td>Guildwood, Morningside, West Hill</td>\n    </tr>\n    <tr>\n      <th>3</th>\n      <td>M1G</td>\n      <td>Scarborough</td>\n      <td>Woburn</td>\n    </tr>\n    <tr>\n      <th>4</th>\n      <td>M1H</td>\n      <td>Scarborough</td>\n      <td>Cedarbrae</td>\n    </tr>\n    <tr>\n      <th>5</th>\n      <td>M1J</td>\n      <td>Scarborough</td>\n      <td>Scarborough Village</td>\n    </tr>\n    <tr>\n      <th>6</th>\n      <td>M1K</td>\n      <td>Scarborough</td>\n      <td>Kennedy Park, Ionview, East Birchmount Park</td>\n    </tr>\n    <tr>\n      <th>7</th>\n      <td>M1L</td>\n      <td>Scarborough</td>\n      <td>Golden Mile, Clairlea, Oakridge</td>\n    </tr>\n    <tr>\n      <th>8</th>\n      <td>M1M</td>\n      <td>Scarborough</td>\n      <td>Cliffside, Cliffcrest, Scarborough Village West</td>\n    </tr>\n    <tr>\n      <th>9</th>\n      <td>M1N</td>\n      <td>Scarborough</td>\n      <td>Birch Cliff, Cliffside West</td>\n    </tr>\n  </tbody>\n</table>\n</div>",
                        "text/plain": "  Postal Code      Borough                                     Neighborhood\n0         M1B  Scarborough                                   Malvern, Rouge\n1         M1C  Scarborough           Rouge Hill, Port Union, Highland Creek\n2         M1E  Scarborough                Guildwood, Morningside, West Hill\n3         M1G  Scarborough                                           Woburn\n4         M1H  Scarborough                                        Cedarbrae\n5         M1J  Scarborough                              Scarborough Village\n6         M1K  Scarborough      Kennedy Park, Ionview, East Birchmount Park\n7         M1L  Scarborough                  Golden Mile, Clairlea, Oakridge\n8         M1M  Scarborough  Cliffside, Cliffcrest, Scarborough Village West\n9         M1N  Scarborough                      Birch Cliff, Cliffside West"
                    },
                    "execution_count": 47,
                    "metadata": {},
                    "output_type": "execute_result"
                }
            ],
            "source": "#Gather all neighborhouds in each one borough\ndf = df.groupby([\"Postal Code\", \"Borough\"]).agg(\", \".join)\ndf = df.reset_index()\ndf.head(10)"
        },
        {
            "cell_type": "markdown",
            "metadata": {},
            "source": "#### Assigning the \"not assigned\" neighbourhoods with the same name as their boroughs"
        },
        {
            "cell_type": "code",
            "execution_count": 48,
            "metadata": {},
            "outputs": [
                {
                    "data": {
                        "text/html": "<div>\n<style scoped>\n    .dataframe tbody tr th:only-of-type {\n        vertical-align: middle;\n    }\n\n    .dataframe tbody tr th {\n        vertical-align: top;\n    }\n\n    .dataframe thead th {\n        text-align: right;\n    }\n</style>\n<table border=\"1\" class=\"dataframe\">\n  <thead>\n    <tr style=\"text-align: right;\">\n      <th></th>\n      <th>Postal Code</th>\n      <th>Borough</th>\n      <th>Neighborhood</th>\n    </tr>\n  </thead>\n  <tbody>\n    <tr>\n      <th>0</th>\n      <td>M1B</td>\n      <td>Scarborough</td>\n      <td>Malvern, Rouge</td>\n    </tr>\n    <tr>\n      <th>1</th>\n      <td>M1C</td>\n      <td>Scarborough</td>\n      <td>Rouge Hill, Port Union, Highland Creek</td>\n    </tr>\n    <tr>\n      <th>2</th>\n      <td>M1E</td>\n      <td>Scarborough</td>\n      <td>Guildwood, Morningside, West Hill</td>\n    </tr>\n    <tr>\n      <th>3</th>\n      <td>M1G</td>\n      <td>Scarborough</td>\n      <td>Woburn</td>\n    </tr>\n    <tr>\n      <th>4</th>\n      <td>M1H</td>\n      <td>Scarborough</td>\n      <td>Cedarbrae</td>\n    </tr>\n    <tr>\n      <th>5</th>\n      <td>M1J</td>\n      <td>Scarborough</td>\n      <td>Scarborough Village</td>\n    </tr>\n    <tr>\n      <th>6</th>\n      <td>M1K</td>\n      <td>Scarborough</td>\n      <td>Kennedy Park, Ionview, East Birchmount Park</td>\n    </tr>\n    <tr>\n      <th>7</th>\n      <td>M1L</td>\n      <td>Scarborough</td>\n      <td>Golden Mile, Clairlea, Oakridge</td>\n    </tr>\n    <tr>\n      <th>8</th>\n      <td>M1M</td>\n      <td>Scarborough</td>\n      <td>Cliffside, Cliffcrest, Scarborough Village West</td>\n    </tr>\n    <tr>\n      <th>9</th>\n      <td>M1N</td>\n      <td>Scarborough</td>\n      <td>Birch Cliff, Cliffside West</td>\n    </tr>\n  </tbody>\n</table>\n</div>",
                        "text/plain": "  Postal Code      Borough                                     Neighborhood\n0         M1B  Scarborough                                   Malvern, Rouge\n1         M1C  Scarborough           Rouge Hill, Port Union, Highland Creek\n2         M1E  Scarborough                Guildwood, Morningside, West Hill\n3         M1G  Scarborough                                           Woburn\n4         M1H  Scarborough                                        Cedarbrae\n5         M1J  Scarborough                              Scarborough Village\n6         M1K  Scarborough      Kennedy Park, Ionview, East Birchmount Park\n7         M1L  Scarborough                  Golden Mile, Clairlea, Oakridge\n8         M1M  Scarborough  Cliffside, Cliffcrest, Scarborough Village West\n9         M1N  Scarborough                      Birch Cliff, Cliffside West"
                    },
                    "execution_count": 48,
                    "metadata": {},
                    "output_type": "execute_result"
                }
            ],
            "source": "#\"Not assigned\" neighborhoods will be the same as their borough\ndf.loc[df['Neighborhood']==\"Not assigned\", [\"Neighborhood\"]] = \"Queen\\'s Park'\"\ndf.head(10)"
        },
        {
            "cell_type": "markdown",
            "metadata": {},
            "source": "#### Checking the shape of the dataframe"
        },
        {
            "cell_type": "code",
            "execution_count": 49,
            "metadata": {},
            "outputs": [
                {
                    "data": {
                        "text/plain": "(103, 3)"
                    },
                    "execution_count": 49,
                    "metadata": {},
                    "output_type": "execute_result"
                }
            ],
            "source": "#Use the .shape method to print the number of rows of the dataframe\ndf.shape"
        },
        {
            "cell_type": "markdown",
            "metadata": {},
            "source": "# Part - Project 2 : Finding the latitude and the longitude coordinates of each neighborhood"
        },
        {
            "cell_type": "markdown",
            "metadata": {},
            "source": "Geocoder was not working, so I used the link to download the csv file"
        },
        {
            "cell_type": "code",
            "execution_count": 50,
            "metadata": {},
            "outputs": [],
            "source": "#I download the .csv file from the link http://cocl.us/Geospatial_data\ndf_coord = pd.read_csv(\"https://cocl.us/Geospatial_data\")\nData_Location = pd.merge(df, df_coord, on = \"Postal Code\")"
        },
        {
            "cell_type": "markdown",
            "metadata": {},
            "source": "#### Checking the data"
        },
        {
            "cell_type": "code",
            "execution_count": 51,
            "metadata": {},
            "outputs": [
                {
                    "data": {
                        "text/html": "<div>\n<style scoped>\n    .dataframe tbody tr th:only-of-type {\n        vertical-align: middle;\n    }\n\n    .dataframe tbody tr th {\n        vertical-align: top;\n    }\n\n    .dataframe thead th {\n        text-align: right;\n    }\n</style>\n<table border=\"1\" class=\"dataframe\">\n  <thead>\n    <tr style=\"text-align: right;\">\n      <th></th>\n      <th>Postal Code</th>\n      <th>Borough</th>\n      <th>Neighborhood</th>\n      <th>Latitude</th>\n      <th>Longitude</th>\n    </tr>\n  </thead>\n  <tbody>\n    <tr>\n      <th>0</th>\n      <td>M1B</td>\n      <td>Scarborough</td>\n      <td>Malvern, Rouge</td>\n      <td>43.806686</td>\n      <td>-79.194353</td>\n    </tr>\n    <tr>\n      <th>1</th>\n      <td>M1C</td>\n      <td>Scarborough</td>\n      <td>Rouge Hill, Port Union, Highland Creek</td>\n      <td>43.784535</td>\n      <td>-79.160497</td>\n    </tr>\n    <tr>\n      <th>2</th>\n      <td>M1E</td>\n      <td>Scarborough</td>\n      <td>Guildwood, Morningside, West Hill</td>\n      <td>43.763573</td>\n      <td>-79.188711</td>\n    </tr>\n    <tr>\n      <th>3</th>\n      <td>M1G</td>\n      <td>Scarborough</td>\n      <td>Woburn</td>\n      <td>43.770992</td>\n      <td>-79.216917</td>\n    </tr>\n    <tr>\n      <th>4</th>\n      <td>M1H</td>\n      <td>Scarborough</td>\n      <td>Cedarbrae</td>\n      <td>43.773136</td>\n      <td>-79.239476</td>\n    </tr>\n    <tr>\n      <th>5</th>\n      <td>M1J</td>\n      <td>Scarborough</td>\n      <td>Scarborough Village</td>\n      <td>43.744734</td>\n      <td>-79.239476</td>\n    </tr>\n    <tr>\n      <th>6</th>\n      <td>M1K</td>\n      <td>Scarborough</td>\n      <td>Kennedy Park, Ionview, East Birchmount Park</td>\n      <td>43.727929</td>\n      <td>-79.262029</td>\n    </tr>\n    <tr>\n      <th>7</th>\n      <td>M1L</td>\n      <td>Scarborough</td>\n      <td>Golden Mile, Clairlea, Oakridge</td>\n      <td>43.711112</td>\n      <td>-79.284577</td>\n    </tr>\n    <tr>\n      <th>8</th>\n      <td>M1M</td>\n      <td>Scarborough</td>\n      <td>Cliffside, Cliffcrest, Scarborough Village West</td>\n      <td>43.716316</td>\n      <td>-79.239476</td>\n    </tr>\n    <tr>\n      <th>9</th>\n      <td>M1N</td>\n      <td>Scarborough</td>\n      <td>Birch Cliff, Cliffside West</td>\n      <td>43.692657</td>\n      <td>-79.264848</td>\n    </tr>\n  </tbody>\n</table>\n</div>",
                        "text/plain": "  Postal Code      Borough                                     Neighborhood  \\\n0         M1B  Scarborough                                   Malvern, Rouge   \n1         M1C  Scarborough           Rouge Hill, Port Union, Highland Creek   \n2         M1E  Scarborough                Guildwood, Morningside, West Hill   \n3         M1G  Scarborough                                           Woburn   \n4         M1H  Scarborough                                        Cedarbrae   \n5         M1J  Scarborough                              Scarborough Village   \n6         M1K  Scarborough      Kennedy Park, Ionview, East Birchmount Park   \n7         M1L  Scarborough                  Golden Mile, Clairlea, Oakridge   \n8         M1M  Scarborough  Cliffside, Cliffcrest, Scarborough Village West   \n9         M1N  Scarborough                      Birch Cliff, Cliffside West   \n\n    Latitude  Longitude  \n0  43.806686 -79.194353  \n1  43.784535 -79.160497  \n2  43.763573 -79.188711  \n3  43.770992 -79.216917  \n4  43.773136 -79.239476  \n5  43.744734 -79.239476  \n6  43.727929 -79.262029  \n7  43.711112 -79.284577  \n8  43.716316 -79.239476  \n9  43.692657 -79.264848  "
                    },
                    "execution_count": 51,
                    "metadata": {},
                    "output_type": "execute_result"
                }
            ],
            "source": "Data_Location.head(10)\n"
        },
        {
            "cell_type": "markdown",
            "metadata": {},
            "source": "#### Creating a new dataframe which contains only the borough \"North York\""
        },
        {
            "cell_type": "code",
            "execution_count": 52,
            "metadata": {},
            "outputs": [
                {
                    "data": {
                        "text/html": "<div>\n<style scoped>\n    .dataframe tbody tr th:only-of-type {\n        vertical-align: middle;\n    }\n\n    .dataframe tbody tr th {\n        vertical-align: top;\n    }\n\n    .dataframe thead th {\n        text-align: right;\n    }\n</style>\n<table border=\"1\" class=\"dataframe\">\n  <thead>\n    <tr style=\"text-align: right;\">\n      <th></th>\n      <th>Postal Code</th>\n      <th>Borough</th>\n      <th>Neighborhood</th>\n      <th>Latitude</th>\n      <th>Longitude</th>\n    </tr>\n  </thead>\n  <tbody>\n    <tr>\n      <th>0</th>\n      <td>M4W</td>\n      <td>Downtown Toronto</td>\n      <td>Rosedale</td>\n      <td>43.679563</td>\n      <td>-79.377529</td>\n    </tr>\n    <tr>\n      <th>1</th>\n      <td>M4X</td>\n      <td>Downtown Toronto</td>\n      <td>St. James Town, Cabbagetown</td>\n      <td>43.667967</td>\n      <td>-79.367675</td>\n    </tr>\n    <tr>\n      <th>2</th>\n      <td>M4Y</td>\n      <td>Downtown Toronto</td>\n      <td>Church and Wellesley</td>\n      <td>43.665860</td>\n      <td>-79.383160</td>\n    </tr>\n    <tr>\n      <th>3</th>\n      <td>M5A</td>\n      <td>Downtown Toronto</td>\n      <td>Regent Park, Harbourfront</td>\n      <td>43.654260</td>\n      <td>-79.360636</td>\n    </tr>\n    <tr>\n      <th>4</th>\n      <td>M5B</td>\n      <td>Downtown Toronto</td>\n      <td>Garden District, Ryerson</td>\n      <td>43.657162</td>\n      <td>-79.378937</td>\n    </tr>\n    <tr>\n      <th>5</th>\n      <td>M5C</td>\n      <td>Downtown Toronto</td>\n      <td>St. James Town</td>\n      <td>43.651494</td>\n      <td>-79.375418</td>\n    </tr>\n    <tr>\n      <th>6</th>\n      <td>M5E</td>\n      <td>Downtown Toronto</td>\n      <td>Berczy Park</td>\n      <td>43.644771</td>\n      <td>-79.373306</td>\n    </tr>\n    <tr>\n      <th>7</th>\n      <td>M5G</td>\n      <td>Downtown Toronto</td>\n      <td>Central Bay Street</td>\n      <td>43.657952</td>\n      <td>-79.387383</td>\n    </tr>\n    <tr>\n      <th>8</th>\n      <td>M5H</td>\n      <td>Downtown Toronto</td>\n      <td>Richmond, Adelaide, King</td>\n      <td>43.650571</td>\n      <td>-79.384568</td>\n    </tr>\n    <tr>\n      <th>9</th>\n      <td>M5J</td>\n      <td>Downtown Toronto</td>\n      <td>Harbourfront East, Union Station, Toronto Islands</td>\n      <td>43.640816</td>\n      <td>-79.381752</td>\n    </tr>\n  </tbody>\n</table>\n</div>",
                        "text/plain": "  Postal Code           Borough  \\\n0         M4W  Downtown Toronto   \n1         M4X  Downtown Toronto   \n2         M4Y  Downtown Toronto   \n3         M5A  Downtown Toronto   \n4         M5B  Downtown Toronto   \n5         M5C  Downtown Toronto   \n6         M5E  Downtown Toronto   \n7         M5G  Downtown Toronto   \n8         M5H  Downtown Toronto   \n9         M5J  Downtown Toronto   \n\n                                        Neighborhood   Latitude  Longitude  \n0                                           Rosedale  43.679563 -79.377529  \n1                        St. James Town, Cabbagetown  43.667967 -79.367675  \n2                               Church and Wellesley  43.665860 -79.383160  \n3                          Regent Park, Harbourfront  43.654260 -79.360636  \n4                           Garden District, Ryerson  43.657162 -79.378937  \n5                                     St. James Town  43.651494 -79.375418  \n6                                        Berczy Park  43.644771 -79.373306  \n7                                 Central Bay Street  43.657952 -79.387383  \n8                           Richmond, Adelaide, King  43.650571 -79.384568  \n9  Harbourfront East, Union Station, Toronto Islands  43.640816 -79.381752  "
                    },
                    "execution_count": 52,
                    "metadata": {},
                    "output_type": "execute_result"
                }
            ],
            "source": "Toronto_data = Data_Location[Data_Location[\"Borough\"] == \"Downtown Toronto\"].reset_index(drop=True)\nToronto_data.head(10)"
        },
        {
            "cell_type": "markdown",
            "metadata": {},
            "source": "# Part - Project 3 : Exploring Toronto map\n\n### First task is to generate Toronto Map and plotting North York neigborhoods"
        },
        {
            "cell_type": "code",
            "execution_count": 53,
            "metadata": {},
            "outputs": [
                {
                    "name": "stdout",
                    "output_type": "stream",
                    "text": "Collecting package metadata (current_repodata.json): done\nSolving environment: failed with initial frozen solve. Retrying with flexible solve.\nCollecting package metadata (repodata.json): done\nSolving environment: / ^C\nfailed with initial frozen solve. Retrying with flexible solve.\n\nCondaError: KeyboardInterrupt\n\n"
                },
                {
                    "ename": "ModuleNotFoundError",
                    "evalue": "No module named 'folium'",
                    "output_type": "error",
                    "traceback": [
                        "\u001b[0;31m---------------------------------------------------------------------------\u001b[0m",
                        "\u001b[0;31mModuleNotFoundError\u001b[0m                       Traceback (most recent call last)",
                        "\u001b[0;32m<ipython-input-53-9a49c9b91bd2>\u001b[0m in \u001b[0;36m<module>\u001b[0;34m\u001b[0m\n\u001b[1;32m      1\u001b[0m \u001b[0mget_ipython\u001b[0m\u001b[0;34m(\u001b[0m\u001b[0;34m)\u001b[0m\u001b[0;34m.\u001b[0m\u001b[0msystem\u001b[0m\u001b[0;34m(\u001b[0m\u001b[0;34m'conda install -c conda-forge folium=0.5.0 --yes'\u001b[0m\u001b[0;34m)\u001b[0m\u001b[0;34m\u001b[0m\u001b[0;34m\u001b[0m\u001b[0m\n\u001b[0;32m----> 2\u001b[0;31m \u001b[0;32mimport\u001b[0m \u001b[0mfolium\u001b[0m\u001b[0;34m\u001b[0m\u001b[0;34m\u001b[0m\u001b[0m\n\u001b[0m\u001b[1;32m      3\u001b[0m \u001b[0;34m\u001b[0m\u001b[0m\n\u001b[1;32m      4\u001b[0m \u001b[0mTorLat\u001b[0m \u001b[0;34m=\u001b[0m \u001b[0;36m43.651070\u001b[0m \u001b[0;31m#This is the Latitude\u001b[0m\u001b[0;34m\u001b[0m\u001b[0;34m\u001b[0m\u001b[0m\n\u001b[1;32m      5\u001b[0m \u001b[0mTorLong\u001b[0m \u001b[0;34m=\u001b[0m \u001b[0;34m-\u001b[0m\u001b[0;36m79.347015\u001b[0m \u001b[0;31m#This is the Longitude\u001b[0m\u001b[0;34m\u001b[0m\u001b[0;34m\u001b[0m\u001b[0m\n",
                        "\u001b[0;31mModuleNotFoundError\u001b[0m: No module named 'folium'"
                    ]
                }
            ],
            "source": "!conda install -c conda-forge folium=0.5.0 --yes\nimport folium\n\nTorLat = 43.651070 #This is the Latitude\nTorLong = -79.347015 #This is the Longitude\nd_toronto = folium.Map(location=[TorLat,TorLong], zoom_start=10) #call Folium to generate the map\nfor lat, lng, borough, neighbourhood in zip(Toronto_data[\"Latitude\"], Toronto_data[\"Longitude\"], Toronto_data[\"Borough\"], Toronto_data[\"Neighborhood\"]):\n    label = \"{}, {}\".format(Toronto_data,borough)\n    label = folium.Popup(label, parse_html=True)\n    folium.CircleMarker(\n        [lat, lng],\n        radius=5,\n        popup=label,\n        color=\"blue\",\n        fill=True,\n        fill_color=\"#3186cc\",\n        fill_opacity=0.6,\n        parse_html=False).add_to(d_toronto)\n\nd_toronto"
        },
        {
            "cell_type": "markdown",
            "metadata": {},
            "source": "## Inserting information from Foursquare"
        },
        {
            "cell_type": "code",
            "execution_count": null,
            "metadata": {},
            "outputs": [],
            "source": "CLIENT_ID=\"SP3M1HLBSEY5PZKQFPOL20ZIA2DNJKVXLQXAHYECLYAV3UXZ\"\nCLIENT_SECRET = \"Z2WROULQXZBHDQT4Y0HB5COC4OAEZSWSWO2YNGMN3PPDO3FZ\"\nVERSION = \"20180604\"\nLIMIT = 100"
        },
        {
            "cell_type": "markdown",
            "metadata": {},
            "source": "### Creating a function which explore the nighborhood in downtown Toronto"
        },
        {
            "cell_type": "code",
            "execution_count": null,
            "metadata": {},
            "outputs": [],
            "source": "def getNearbyVenues(names, latitudes, longitudes, radius=500):\n    \n    venues_list=[]\n    for name, lat, lng in zip(names, latitudes, longitudes):\n        print(name)\n        \n        #create the API request URL\n        url = \"https://api.foursquare.com/v2/venues/explore?&client_id={}&client_secret={}&v={}&ll={},{}&radius={}&limit={}\".format(\n            CLIENT_ID,\n            CLIENT_SECRET,\n            VERSION,\n            lat,\n            lng,\n            radius,\n            LIMIT)\n        \n        results = requests.get(url).json()[\"response\"][\"groups\"][0][\"items\"]\n        \n        venues_list.append([(\n            name,\n            lat,\n            lng,\n            v[\"venue\"][\"name\"],\n            v[\"venue\"][\"location\"][\"lat\"],\n            v[\"venue\"][\"location\"][\"lng\"],\n            v[\"venue\"][\"categories\"][0][\"name\"]) for v in results])\n        \n    nearby_venues = pd.DataFrame([item for venue_list in venues_list for item in venue_list])\n    nearby_venues.columns = [\"Neighborhood\",\n                    \"Neighborhood Latitude\",\n                    \"Neighborhood Longitude\",\n                    \"Venue\",\n                    \"Venue Latitude\",\n                    \"Venue Longitude\",\n                    \"Venue Category\"]\n    return(nearby_venues)"
        },
        {
            "cell_type": "markdown",
            "metadata": {},
            "source": "## Get all nearby venues in neighborhoods"
        },
        {
            "cell_type": "code",
            "execution_count": null,
            "metadata": {},
            "outputs": [],
            "source": "dToronto_venues = getNearbyVenues(names=Toronto_data[\"Neighborhood\"],\n                                    latitudes=Toronto_data[\"Latitude\"],\n                                    longitudes=Toronto_data[\"Longitude\"]\n                                   )"
        },
        {
            "cell_type": "markdown",
            "metadata": {},
            "source": "### Getting Informaction about venues"
        },
        {
            "cell_type": "code",
            "execution_count": null,
            "metadata": {},
            "outputs": [],
            "source": "print(\"There are a total of\", dToronto_venues.shape[0], \"venues in downtown Toronto grouped in\", len(dToronto_venues[\"Venue Category\"].unique()),\"categories\")\ndToronto_venues.head()"
        },
        {
            "cell_type": "markdown",
            "metadata": {},
            "source": "## Further Analysis of downtown Toronto neighbourhoods"
        },
        {
            "cell_type": "code",
            "execution_count": null,
            "metadata": {},
            "outputs": [],
            "source": "dToronto_spots = pd.get_dummies(dToronto_venues[[\"Venue Category\"]], prefix=\"\", prefix_sep=\"\")\n\n#Then, adding neighbourhood coliumn to dataframe back\ndToronto_spots[\"Neighborhood\"] = dToronto_venues[\"Neighborhood\"]\n\n#transfer neighbourhood column to the first one\nfixed_columns = [dToronto_spots.columns[-1]] + list(dToronto_spots.columns[:-1])\ndToronto_spots = dToronto_spots[fixed_columns]\nGroup_neighbourhood = dToronto_spots.groupby('Neighborhood').mean().reset_index()"
        },
        {
            "cell_type": "markdown",
            "metadata": {},
            "source": "### Top 3 venue's categories per neighborhood"
        },
        {
            "cell_type": "code",
            "execution_count": null,
            "metadata": {},
            "outputs": [],
            "source": "venues = 4\nprint(\"***** These are the top 3 venue categories in each neighborhood of downtown Toronto *****\")\nprint(\"\\n\")\nfor hood in Group_neighbourhood[\"Neighborhood\"]:\n    print(\"----\"+hood+\"----\")\n    tbl = Group_neighbourhood[Group_neighbourhood[\"Neighborhood\"]==hood].T.reset_index()\n    tbl.columns = [\"venue\", \"freq\"]\n    tbl = tbl.iloc[1:]\n    tbl[\"freq\"] = tbl[\"freq\"].astype(float)\n    tbl = tbl.round({\"freq\":2})\n    print(tbl.sort_values(\"freq\", ascending=False).reset_index(drop=True).head(venues))\n    print(\"\\n\")"
        },
        {
            "cell_type": "markdown",
            "metadata": {},
            "source": "### The 5 most common venues per neighborhood\n\n#### Creating a function with the 5 most common venues"
        },
        {
            "cell_type": "code",
            "execution_count": null,
            "metadata": {},
            "outputs": [],
            "source": "def return_5most_venues(row,n):\n    row_categories = row.iloc[1:]\n    row_categories_sorted = row_categories.sort_values(ascending=False)\n    \n    return row_categories_sorted.index.values[0:n]"
        },
        {
            "cell_type": "markdown",
            "metadata": {},
            "source": "#### Apply the factor 8"
        },
        {
            "cell_type": "code",
            "execution_count": null,
            "metadata": {},
            "outputs": [],
            "source": "venues = 8\n\nindicators = [\"st\", \"nd\", \"rd\"]\n\n#below we create the columns according to the number of top venues\ncolumns = [\"Neighborhood\"]\nfor ind in np.arange(venues):\n    try:\n        columns.append(\"{}{} Most common venue\".format(ind+1, indicators[ind]))\n    except:\n         columns.append(\"{}th Most common venue\".format(ind+1))\n            \n#next we create a new dataframe\nneighborhoods_venues_sort = pd.DataFrame(columns=columns)\nneighborhoods_venues_sort[\"Neighborhood\"] = Group_neighbourhood[\"Neighborhood\"]\n\nfor ind in np.arange(Group_neighbourhood.shape[0]):\n    neighborhoods_venues_sort.iloc[ind, 1:] = return_5most_venues(Group_neighbourhood.iloc[ind, :], venues)\n    \nneighborhoods_venues_sort.head()"
        },
        {
            "cell_type": "markdown",
            "metadata": {},
            "source": "### Clustering the downtown Toronto Neighborhood"
        },
        {
            "cell_type": "code",
            "execution_count": null,
            "metadata": {},
            "outputs": [],
            "source": "#set the number of the clusters\nkclusters = 5\n\ndToronto_clusters = Group_neighbourhood.drop(\"Neighborhood\", 1)\n\n#applying the kmeans clustering\nkmeans = KMeans(n_clusters=kclusters, random_state=0).fit(dToronto_clusters)\n\nkmeans.labels_[0:8]"
        },
        {
            "cell_type": "code",
            "execution_count": null,
            "metadata": {},
            "outputs": [],
            "source": "#adding the labels of clustering\nneighborhoods_venues_sort.insert(0, \"Cluster Labels\", kmeans.labels_)\ndToronto_clustered = Toronto_data\n\n\ndToronto_clustered = dToronto_clustered.join(neighborhoods_venues_sort.set_index(\"Neighborhood\"), on=\"Neighborhood\")\ndToronto_clustered.head()"
        },
        {
            "cell_type": "markdown",
            "metadata": {},
            "source": "## Visualizing clusters on the map"
        },
        {
            "cell_type": "code",
            "execution_count": null,
            "metadata": {},
            "outputs": [],
            "source": "toronto_cluster_map =folium.Map(location=[TorLat,TorLong], zoom_start=14)\n\nx =np.arange(kclusters)\nys = [i + x + (i*x)**2 for i in range(kclusters)]\ncolors_array = cm.rainbow(np.linspace(0,1, len(ys)))\nrainbow = [colors.rgb2hex(i) for i in colors_array]\ndToronto_clustered['Cluster Labels']\n# add markers to the map\nmarkers_colors = []\nfor lat, lon, poi, cluster in zip(dToronto_clustered['Latitude'], dToronto_clustered['Longitude'], dToronto_clustered['Neighborhood'], dToronto_clustered['Cluster Labels']):\n    label = folium.Popup(str(poi) + ' Cluster ' + str(cluster), parse_html=True)\n    folium.CircleMarker(\n        [lat, lon],\n        radius=5,\n        popup=label,\n        color=rainbow[cluster-1],\n        fill=True,\n        fill_color=rainbow[cluster-1],\n        fill_opacity=0.6).add_to(toronto_cluster_map)\n       \ntoronto_cluster_map"
        },
        {
            "cell_type": "markdown",
            "metadata": {},
            "source": "## Exploring each cluster"
        },
        {
            "cell_type": "code",
            "execution_count": null,
            "metadata": {},
            "outputs": [],
            "source": "Cluster0 = dToronto_clustered.loc[dToronto_clustered['Cluster Labels'] == 0,\n                                  dToronto_clustered.columns[[1] + list(range(6, dToronto_clustered.shape[1]))]]\nCluster0"
        },
        {
            "cell_type": "code",
            "execution_count": null,
            "metadata": {},
            "outputs": [],
            "source": "Cluster1 = dToronto_clustered.loc[dToronto_clustered['Cluster Labels'] == 1,\n                                  dToronto_clustered.columns[[1] + list(range(6, dToronto_clustered.shape[1]))]]\nCluster1"
        },
        {
            "cell_type": "code",
            "execution_count": null,
            "metadata": {},
            "outputs": [],
            "source": "Cluster2 = dToronto_clustered.loc[dToronto_clustered['Cluster Labels'] == 2,\n                                  dToronto_clustered.columns[[1] + list(range(6, dToronto_clustered.shape[1]))]]\nCluster2"
        },
        {
            "cell_type": "code",
            "execution_count": null,
            "metadata": {},
            "outputs": [],
            "source": "Cluster3 = dToronto_clustered.loc[dToronto_clustered['Cluster Labels'] == 3,\n                                  dToronto_clustered.columns[[1] + list(range(6, dToronto_clustered.shape[1]))]]\nCluster3"
        },
        {
            "cell_type": "code",
            "execution_count": null,
            "metadata": {},
            "outputs": [],
            "source": "Cluster4 = dToronto_clustered.loc[dToronto_clustered['Cluster Labels'] == 4,\n                                  dToronto_clustered.columns[[1] + list(range(6, dToronto_clustered.shape[1]))]]\nCluster4"
        },
        {
            "cell_type": "markdown",
            "metadata": {},
            "source": "## Naming clusters"
        },
        {
            "cell_type": "code",
            "execution_count": null,
            "metadata": {},
            "outputs": [],
            "source": "Cluster_Name = pd.DataFrame(columns = ['Cluster num', 'Cluster Labels'])\nCluster_Name['Cluster num'] = dToronto_clustered['Cluster Labels']\ntest = []\nclusName = []\nfor j in range(5):\n    t = []\n    Clus = dToronto_clustered.loc[dToronto_clustered['Cluster Labels'] == j, dToronto_clustered.columns[[1] + \nlist(range(6, dToronto_clustered.shape[1]))]]\n    for i in range(1,5):\n        t.append(Clus.loc[0:,Cluster0.columns[i]].mode()[0]) \n    clusName = list(set(t[1:]))\n    #Cluster_Name.loc(dToronto_clustered['Cluster Labels'],'Cluster name') = str(clusNames)\n    print(clusName)\n    test.append(clusName)\n\nfor k in range(5):\n    Cluster_Name.loc[dToronto_clustered['Cluster Labels'] == k, 'Cluster Labels'] = \", \".join(test[k])"
        },
        {
            "cell_type": "code",
            "execution_count": null,
            "metadata": {},
            "outputs": [],
            "source": "Cluster_Name\n"
        },
        {
            "cell_type": "markdown",
            "metadata": {},
            "source": "## Visualizing the map with new named clusters"
        },
        {
            "cell_type": "code",
            "execution_count": null,
            "metadata": {},
            "outputs": [],
            "source": "new_map_clusters = folium.Map(location=[TorLat, TorLong], zoom_start=13)\n\n# set color scheme for the clusters\nx = np.arange(kclusters)\nys = [i + x + (i*x)**2 for i in range(kclusters)]\ncolors_array = cm.rainbow(np.linspace(0, 1, len(ys)))\nrainbow = [colors.rgb2hex(i) for i in colors_array]\ndToronto_clustered['Cluster Labels']\n# add markers to the map\nmarkers_colors = []\nfor lat, lon, poi, cluster, k in zip(dToronto_clustered['Latitude'], dToronto_clustered['Longitude'], dToronto_clustered['Neighborhood'], Cluster_Name['Cluster Labels'], Cluster_Name['Cluster num']):\n    label = folium.Popup('Neighborhood: ' + str(poi) + '. Venues: ' + cluster, parse_html=True)\n    folium.CircleMarker(\n        [lat, lon],\n        radius=5,\n        popup=label,\n        color=rainbow[k-1],\n        fill=True,\n        fill_color=rainbow[k-1],\n        fill_opacity=0.6).add_to(new_map_clusters)\n       \nnew_map_clusters"
        },
        {
            "cell_type": "code",
            "execution_count": null,
            "metadata": {},
            "outputs": [],
            "source": ""
        },
        {
            "cell_type": "code",
            "execution_count": null,
            "metadata": {},
            "outputs": [],
            "source": ""
        },
        {
            "cell_type": "code",
            "execution_count": null,
            "metadata": {},
            "outputs": [],
            "source": ""
        }
    ],
    "metadata": {
        "kernelspec": {
            "display_name": "Python 3.7",
            "language": "python",
            "name": "python3"
        },
        "language_info": {
            "codemirror_mode": {
                "name": "ipython",
                "version": 3
            },
            "file_extension": ".py",
            "mimetype": "text/x-python",
            "name": "python",
            "nbconvert_exporter": "python",
            "pygments_lexer": "ipython3",
            "version": "3.7.9"
        }
    },
    "nbformat": 4,
    "nbformat_minor": 1
}